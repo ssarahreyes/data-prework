{
 "cells": [
  {
   "cell_type": "markdown",
   "metadata": {},
   "source": [
    "<img src=\"https://bit.ly/2VnXWr2\" width=\"100\" align=\"left\">"
   ]
  },
  {
   "cell_type": "markdown",
   "metadata": {},
   "source": [
    "# Rock, Paper & Scissors\n",
    "\n",
    "Let's play the famous game against our computer. You can check the rules [here](https://en.wikipedia.org/wiki/Rock%E2%80%93paper%E2%80%93scissors). \n",
    "\n",
    "## Task\n",
    "Create a program that imitates the playability of the well known game of rock, paper, scissors. Follow the guidelines provided.\n",
    "\n",
    "## Tools\n",
    "1. Loop: **for/while**\n",
    "2. Functions: **input(), print()...**\n",
    "3. Conditional statements: **if, elif, else**\n",
    "4. Definition of functions. Modular programming\n",
    "5. Import modules\n",
    "\n",
    "**To solve this challenge, the use of functions is recommended.**\n",
    "\n",
    "#### 1. Import the choice function of the random module."
   ]
  },
  {
   "cell_type": "code",
   "execution_count": 1,
   "metadata": {},
   "outputs": [],
   "source": [
    "import random "
   ]
  },
  {
   "cell_type": "markdown",
   "metadata": {},
   "source": [
    "#### 2. Create a list that includes the 3 possible gesture options of the game: 'rock', 'paper' or 'scissors'. Store the list in a variable called `gestures`."
   ]
  },
  {
   "cell_type": "code",
   "execution_count": 2,
   "metadata": {},
   "outputs": [],
   "source": [
    "gestures=[\"rock\", \"paper\", \"scissors\"]"
   ]
  },
  {
   "cell_type": "markdown",
   "metadata": {},
   "source": [
    "#### 3. Create a variable called `n_rounds` to store the maximum number of rounds to play in a game. \n",
    "Remember that the number of rounds must be odd: 1, 3, 5, ..."
   ]
  },
  {
   "cell_type": "code",
   "execution_count": 3,
   "metadata": {},
   "outputs": [],
   "source": [
    "n_rounds=3"
   ]
  },
  {
   "cell_type": "markdown",
   "metadata": {},
   "source": [
    "#### 4. Create a variable called `rounds_to_win` to store the number of rounds that a player must win to win the game.\n",
    "**Hint**: the value stored in `rounds_to_win` depends on the value of `n_rounds`. "
   ]
  },
  {
   "cell_type": "code",
   "execution_count": 4,
   "metadata": {},
   "outputs": [],
   "source": [
    "rounds_to_win = 3"
   ]
  },
  {
   "cell_type": "markdown",
   "metadata": {},
   "source": [
    "#### 5. Create two variables to store the number of rounds that the computer and the player have won. Call these variables `cpu_score` and `player_score`."
   ]
  },
  {
   "cell_type": "code",
   "execution_count": 5,
   "metadata": {},
   "outputs": [],
   "source": [
    "cpu_score=0\n",
    "player_score=0"
   ]
  },
  {
   "cell_type": "markdown",
   "metadata": {},
   "source": [
    "#### 6. Define a function that randomly returns one of the 3 gesture options.\n",
    "You will use this function to simulate the gesture choice of the computer. "
   ]
  },
  {
   "cell_type": "code",
   "execution_count": 6,
   "metadata": {},
   "outputs": [
    {
     "name": "stdout",
     "output_type": "stream",
     "text": [
      "The cpu choice is: paper\n"
     ]
    }
   ],
   "source": [
    "def random_choice():\n",
    "    return random.choice(gestures)\n",
    "    \n",
    "print(\"The cpu choice is:\", random.choice(gestures))"
   ]
  },
  {
   "cell_type": "markdown",
   "metadata": {},
   "source": [
    "#### 7. Define a function that asks the player which is the gesture he or she wants to show: 'rock', 'paper' or 'scissors'.\n",
    "The player should only be allowed to choose one of the 3 gesture options. If the player's choice is not rock, paper or scissors, keep asking until it is."
   ]
  },
  {
   "cell_type": "code",
   "execution_count": 7,
   "metadata": {},
   "outputs": [],
   "source": [
    "def player_choice():\n",
    "    selection = input('The player choice is: ')\n",
    "    if selection not in gestures:\n",
    "        print(\"Not valid, please choose between rock, paper or scissor.\")\n",
    "        player_choice()\n",
    "    else:\n",
    "        return selection"
   ]
  },
  {
   "cell_type": "markdown",
   "metadata": {},
   "source": [
    "#### 8. Define a function that checks who won a round. \n",
    "The function should return 0 if there is a tie, 1 if the computer wins and 2 if the player wins."
   ]
  },
  {
   "cell_type": "code",
   "execution_count": 8,
   "metadata": {},
   "outputs": [],
   "source": [
    "def who_wins(cpu_selection: str, user_selection: str):\n",
    "    if cpu_selection == user_selection:\n",
    "        return 0\n",
    "    elif cpu_selection == \"rock\" and user_selection == \"paper\":\n",
    "        return 2\n",
    "    elif cpu_selection == \"rock\" and user_selection == \"scissors\":\n",
    "        return 1\n",
    "    elif cpu_selection == \"paper\" and user_selection == \"rock\":\n",
    "        return 1\n",
    "    elif cpu_selection == \"paper\" and user_selection == \"scissors\":\n",
    "        return 2\n",
    "    elif cpu_selection == \"scissors\" and user_selection == \"paper\":\n",
    "        return 1\n",
    "    elif cpu_selection == \"scissors\" and user_selection == \"rock\":\n",
    "        return 2"
   ]
  },
  {
   "cell_type": "markdown",
   "metadata": {},
   "source": [
    "#### 9. Define a function that prints the choice of the computer, the choice of the player and a message that announces who won the current round. \n",
    "You should also use this function to update the variables that count the number of rounds that the computer and the player have won. The score of the winner increases by one point. If there is a tie, the score does not increase."
   ]
  },
  {
   "cell_type": "code",
   "execution_count": 9,
   "metadata": {},
   "outputs": [],
   "source": [
    "def play_round():\n",
    "    cpu_selection = random_choice()\n",
    "    user_selection = player_choice()\n",
    "    winner = who_wins(cpu_selection, user_selection)\n",
    "\n",
    "    if winner == 1:\n",
    "        global cpu_score\n",
    "        cpu_score += 1\n",
    "    elif winner == 2:\n",
    "        global player_score \n",
    "        player_score += 1\n",
    "    \n",
    "    print(\"Computer choose:\", cpu_selection)\n",
    "    print(\"Player choose:\", user_selection)\n",
    "    print(\"The score of the player is:\", player_score)\n",
    "    print(\"The computer score is:\", cpu_score)\n",
    "    print(\"This is the round number:\", rounds)\n",
    "    print(\"------------------------\")"
   ]
  },
  {
   "cell_type": "markdown",
   "metadata": {},
   "source": [
    "#### 10. Now it's time to code the execution of the game using the functions and variables you defined above. \n",
    "\n",
    "First, create a loop structure that repeats while no player reaches the minimum score necessary to win and the number of rounds is less than the maximum number of rounds to play in a game.  \n",
    "\n",
    "Inside the loop, use the functions and variables above to create the execution of a round: ask for the player's choice, generate the random choice of the computer, show the round results, update the scores, etc. "
   ]
  },
  {
   "cell_type": "code",
   "execution_count": 10,
   "metadata": {
    "scrolled": true
   },
   "outputs": [
    {
     "name": "stdout",
     "output_type": "stream",
     "text": [
      "Let's play!\n",
      "The player choice is: paper\n",
      "Computer choose: paper\n",
      "Player choose: paper\n",
      "The score of the player is: 0\n",
      "The computer score is: 0\n",
      "This is the round number: 1\n",
      "------------------------\n",
      "The player choice is: rock\n",
      "Computer choose: scissors\n",
      "Player choose: rock\n",
      "The score of the player is: 1\n",
      "The computer score is: 0\n",
      "This is the round number: 2\n",
      "------------------------\n",
      "The player choice is: paper\n",
      "Computer choose: paper\n",
      "Player choose: paper\n",
      "The score of the player is: 1\n",
      "The computer score is: 0\n",
      "This is the round number: 3\n",
      "------------------------\n"
     ]
    }
   ],
   "source": [
    "rounds=1\n",
    "\n",
    "print(\"Let's play!\")\n",
    "\n",
    "while rounds <= n_rounds and (cpu_score < rounds_to_win or player_score < rounds_to_win):\n",
    "    play_round()   \n",
    "    rounds += 1"
   ]
  },
  {
   "cell_type": "markdown",
   "metadata": {},
   "source": [
    "#### 11. Print the winner of the game based on who won more rounds.\n",
    "Remember that the game might be tied. "
   ]
  },
  {
   "cell_type": "code",
   "execution_count": 11,
   "metadata": {},
   "outputs": [
    {
     "name": "stdout",
     "output_type": "stream",
     "text": [
      "The player won!\n"
     ]
    }
   ],
   "source": [
    "if cpu_score > player_score:\n",
    "    print(\"The computer won!\")\n",
    "elif cpu_score == player_score:\n",
    "    print(\"There is a tie!\")\n",
    "else:\n",
    "    print(\"The player won!\")"
   ]
  },
  {
   "cell_type": "code",
   "execution_count": 12,
   "metadata": {},
   "outputs": [
    {
     "ename": "SyntaxError",
     "evalue": "invalid syntax (<ipython-input-12-ab815822d566>, line 4)",
     "output_type": "error",
     "traceback": [
      "\u001b[0;36m  File \u001b[0;32m\"<ipython-input-12-ab815822d566>\"\u001b[0;36m, line \u001b[0;32m4\u001b[0m\n\u001b[0;31m    In this challenge, you need to improve the previous game by adding two new options. To know more about the rules of the improved version of rock, paper, scissors, check this [link](http://www.samkass.com/theories/RPSSL.html).\u001b[0m\n\u001b[0m       ^\u001b[0m\n\u001b[0;31mSyntaxError\u001b[0m\u001b[0;31m:\u001b[0m invalid syntax\n"
     ]
    }
   ],
   "source": [
    "# Bonus: Rock, Paper, Scissors, Lizard & Spock\n",
    "![](images/rpsls.jpg)\n",
    "\n",
    "In this challenge, you need to improve the previous game by adding two new options. To know more about the rules of the improved version of rock, paper, scissors, check this [link](http://www.samkass.com/theories/RPSSL.html). \n",
    "\n",
    "In addition, you will also need to improve how the game interacts with the player: the number of rounds to play, which must be an odd number, will be requested to the user until a valid number is entered. Define a new function to make that request.\n",
    "\n",
    "**Hint**: Try to reuse the code that you already coded in the previous challenge. If your code is efficient, this bonus will only consist of simple modifications to the original game."
   ]
  },
  {
   "cell_type": "code",
   "execution_count": 20,
   "metadata": {},
   "outputs": [],
   "source": [
    "gestures=[\"rock\", \"paper\", \"scissors\", \"lizard\", \"spock\"]\n",
    "n_rounds=5\n",
    "rounds_to_win=3\n",
    "rounds=1\n",
    "cpu_score=0\n",
    "user_score=0"
   ]
  },
  {
   "cell_type": "code",
   "execution_count": 21,
   "metadata": {},
   "outputs": [
    {
     "name": "stdout",
     "output_type": "stream",
     "text": [
      "The cpu choice is: rock\n"
     ]
    }
   ],
   "source": [
    "def random_choice_2():\n",
    "    return random.choice(gestures)\n",
    "    \n",
    "print(\"The cpu choice is:\", random.choice(gestures))"
   ]
  },
  {
   "cell_type": "code",
   "execution_count": 22,
   "metadata": {},
   "outputs": [],
   "source": [
    "def player_choice_2():\n",
    "    selection = input('The player choice is: ')\n",
    "    if selection not in gestures:\n",
    "        print(\"Not valid, please choose between rock, paper, scissors, spock or lizard.\")\n",
    "        player_choice_2()\n",
    "    else:\n",
    "        return selection"
   ]
  },
  {
   "cell_type": "code",
   "execution_count": 23,
   "metadata": {},
   "outputs": [],
   "source": [
    "def who_wins_2(cpu_selection: str, user_selection: str):\n",
    "    if cpu_selection == user_selection:\n",
    "        return 0\n",
    "    elif cpu_selection == \"rock\" and user_selection == \"lizard\":\n",
    "        return 1\n",
    "    elif cpu_selection == \"lizard\" and user_selection == \"rock\":\n",
    "        return 2\n",
    "    \n",
    "    elif cpu_selection == \"rock\" and user_selection == \"scissors\":\n",
    "        return 1\n",
    "    elif cpu_selection == \"scissors\" and user_selection == \"rock\":\n",
    "        return 2\n",
    "   \n",
    "    elif cpu_selection == \"paper\" and user_selection == \"rock\":\n",
    "        return 1\n",
    "    elif cpu_selection == \"rock\" and user_selection == \"paper\":\n",
    "        return 2\n",
    "   \n",
    "    elif cpu_selection == \"paper\" and user_selection == \"spock\":\n",
    "        return 1\n",
    "    elif cpu_selection == \"spock\" and user_selection == \"paper\":\n",
    "        return 2\n",
    "    \n",
    "    elif cpu_selection == \"scissors\" and user_selection == \"paper\":\n",
    "        return 1\n",
    "    elif cpu_selection == \"paper\" and user_selection == \"scissors\":\n",
    "        return 2\n",
    "    \n",
    "    elif cpu_selection == \"scissors\" and user_selection == \"lizard\":\n",
    "        return 1\n",
    "    elif cpu_selection == \"lizard\" and user_selection == \"scissors\":\n",
    "        return 2\n",
    "    \n",
    "    elif cpu_selection == \"lizard\" and user_selection == \"spock\":\n",
    "        return 1\n",
    "    elif cpu_selection == \"spock\" and user_selection == \"lizard\":\n",
    "        return 2\n",
    "    \n",
    "    elif cpu_selecction == \"lizard\" and user_selection == \"paper\":\n",
    "        return 1\n",
    "    elif cpu_selection == \"paper\" and user_selection == \"lizard\":\n",
    "        return 2\n",
    "    \n",
    "    elif cpu_selection == \"spock\" and user_selection == \"rock\":\n",
    "        return 1\n",
    "    elif cpu_selection == \"rock\" and user_selection == \"spock\":\n",
    "        return 2\n",
    "    \n",
    "    elif cpu_selection == \"spock\" and user_selection == \"scissors\":\n",
    "        return 1\n",
    "    elif cpu_selection == \"scissors\" and user_selection == \"spock\":\n",
    "        return 2 \n",
    "    \n",
    "    "
   ]
  },
  {
   "cell_type": "code",
   "execution_count": 24,
   "metadata": {},
   "outputs": [],
   "source": [
    "def play_round():\n",
    "    cpu_selection = random_choice_2()\n",
    "    user_selection = player_choice_2()\n",
    "    winner = who_wins(cpu_selection, user_selection)\n",
    "\n",
    "    if winner == 1:\n",
    "        global cpu_score\n",
    "        cpu_score += 1\n",
    "    elif winner == 2:\n",
    "        global player_score \n",
    "        player_score += 1\n",
    "    \n",
    "    print(\"Computer choose:\", cpu_selection)\n",
    "    print(\"Player choose:\", user_selection)\n",
    "    print(\"The score of the player is:\", player_score)\n",
    "    print(\"The computer score is:\", cpu_score)\n",
    "    print(\"This is the round number:\", rounds)\n",
    "    print(\"------------------------\")"
   ]
  },
  {
   "cell_type": "code",
   "execution_count": 25,
   "metadata": {},
   "outputs": [
    {
     "name": "stdout",
     "output_type": "stream",
     "text": [
      "Let's play!\n",
      "The player choice is: lizard\n",
      "Computer choose: rock\n",
      "Player choose: lizard\n",
      "The score of the player is: 2\n",
      "The computer score is: 0\n",
      "This is the round number: 1\n",
      "------------------------\n",
      "The player choice is: spock\n",
      "Computer choose: rock\n",
      "Player choose: spock\n",
      "The score of the player is: 2\n",
      "The computer score is: 0\n",
      "This is the round number: 2\n",
      "------------------------\n",
      "The player choice is: rock\n",
      "Computer choose: lizard\n",
      "Player choose: rock\n",
      "The score of the player is: 2\n",
      "The computer score is: 0\n",
      "This is the round number: 3\n",
      "------------------------\n",
      "The player choice is: paper\n",
      "Computer choose: lizard\n",
      "Player choose: paper\n",
      "The score of the player is: 2\n",
      "The computer score is: 0\n",
      "This is the round number: 4\n",
      "------------------------\n",
      "The player choice is: scissors\n",
      "Computer choose: scissors\n",
      "Player choose: scissors\n",
      "The score of the player is: 2\n",
      "The computer score is: 0\n",
      "This is the round number: 5\n",
      "------------------------\n"
     ]
    }
   ],
   "source": [
    "print(\"Let's play!\")\n",
    "\n",
    "while rounds <= n_rounds and (cpu_score < rounds_to_win or user_score < rounds_to_win):\n",
    "    play_round()   \n",
    "    rounds += 1"
   ]
  },
  {
   "cell_type": "code",
   "execution_count": 26,
   "metadata": {},
   "outputs": [
    {
     "name": "stdout",
     "output_type": "stream",
     "text": [
      "The player won!\n"
     ]
    }
   ],
   "source": [
    "if cpu_score > player_score:\n",
    "    print(\"The computer won!\")\n",
    "elif cpu_score == player_score:\n",
    "    print(\"There is a tie!\")\n",
    "else:\n",
    "    print(\"The player won!\")"
   ]
  }
 ],
 "metadata": {
  "kernelspec": {
   "display_name": "Python 3",
   "language": "python",
   "name": "python3"
  },
  "language_info": {
   "codemirror_mode": {
    "name": "ipython",
    "version": 3
   },
   "file_extension": ".py",
   "mimetype": "text/x-python",
   "name": "python",
   "nbconvert_exporter": "python",
   "pygments_lexer": "ipython3",
   "version": "3.8.2"
  }
 },
 "nbformat": 4,
 "nbformat_minor": 2
}
